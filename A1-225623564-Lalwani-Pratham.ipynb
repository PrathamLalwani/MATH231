{
 "cells": [
  {
   "cell_type": "code",
   "execution_count": 1,
   "metadata": {},
   "outputs": [],
   "source": [
    "import numpy as np\n",
    "from IPython.display import Markdown\n",
    "import numpy.linalg as LA"
   ]
  },
  {
   "cell_type": "code",
   "execution_count": 2,
   "metadata": {},
   "outputs": [],
   "source": [
    "import matplotlib.pyplot as plt"
   ]
  },
  {
   "cell_type": "code",
   "execution_count": 3,
   "metadata": {},
   "outputs": [],
   "source": [
    "def fact(n):\n",
    "    return np.prod(np.arange(1,n+1),axis=0)"
   ]
  },
  {
   "cell_type": "code",
   "execution_count": 4,
   "metadata": {},
   "outputs": [],
   "source": [
    "def fact_approx(n):\n",
    "    return np.sqrt(2*np.pi*n) * (n/np.e)**n"
   ]
  },
  {
   "cell_type": "code",
   "execution_count": 5,
   "metadata": {
    "scrolled": true
   },
   "outputs": [
    {
     "data": {
      "text/markdown": [
       "n | n! | $F_n$ | Absolute Error | Relative error\n",
       "---|---|---|---|---|\n",
       "1 |  1 | 0.9221370088957891 | 0.07786299110421091 | 0.07786299110421091\n",
       "2 |  2 | 1.9190043514889832 | 0.08099564851101682 | 0.04049782425550841\n",
       "3 |  6 | 5.836209591345864 | 0.16379040865413597 | 0.027298401442355995\n",
       "4 |  24 | 23.506175132893294 | 0.4938248671067065 | 0.020576036129446102\n",
       "5 |  120 | 118.0191679575901 | 1.9808320424099009 | 0.016506933686749173\n",
       "6 |  720 | 710.078184642185 | 9.921815357815035 | 0.013780299108076438\n",
       "7 |  5040 | 4980.395831612462 | 59.604168387538266 | 0.011826223886416323\n",
       "8 |  40320 | 39902.39545265671 | 417.6045473432896 | 0.010357255638474444\n",
       "9 |  362880 | 359536.87284194835 | 3343.1271580516477 | 0.009212762230080598\n",
       "10 |  3628800 | 3598695.6187410373 | 30104.381258962676 | 0.008295960443938127\n",
       "11 |  39916800 | 39615625.05057755 | 301174.9494224489 | 0.007545067475911117\n",
       "12 |  479001600 | 475687486.47277606 | 3314113.5272239447 | 0.006918794273806068\n",
       "13 |  6227020800 | 6187239475.19272 | 39781324.80727959 | 0.006388500389669421\n",
       "14 |  87178291200 | 86661001740.59883 | 517289459.4011688 | 0.005933695789177946\n",
       "15 |  1307674368000 | 1300430722199.468 | 7243645800.531982 | 0.00553933454519771\n",
       "16 |  20922789888000 | 20814114415223.137 | 108675472776.86328 | 0.005194119587235004\n",
       "17 |  355687428096000 | 353948328666101.1 | 1739099429898.875 | 0.004889403708217352\n",
       "18 |  6402373705728000 | 6372804626194313.0 | 29569079533687.0 | 0.0046184557310724435\n",
       "19 |  121645100408832000 | 1.2111278659229419e+17 | 532313816537808.0 | 0.004375957722495822\n",
       "20 |  2432902008176640000 | 2.422786846761135e+18 | 1.0115161415504896e+16 | 0.0041576526228797\n"
      ],
      "text/plain": [
       "<IPython.core.display.Markdown object>"
      ]
     },
     "metadata": {},
     "output_type": "display_data"
    }
   ],
   "source": [
    "tstr = \"\"\n",
    "tstr += f\"n | n! | $F_n$ | Absolute Error | Relative error\\n\"\n",
    "tstr += f\"---|---|---|---|---|\\n\"\n",
    "for n in range(1,21):\n",
    "    tstr+= f\"{n} |  {fact(n)} | {fact_approx(n)} | {np.abs(fact_approx(n)- fact(n))} | {np.abs(fact_approx(n)- fact(n))/fact(n)}\\n\"\n",
    "display(Markdown(tstr))"
   ]
  },
  {
   "cell_type": "markdown",
   "metadata": {},
   "source": [
    "As n increases, the Absolute Error increased significantly while the relative error steadily decreased."
   ]
  },
  {
   "cell_type": "code",
   "execution_count": 6,
   "metadata": {},
   "outputs": [],
   "source": [
    "def func(x):\n",
    "    return 2*x-np.cos(x)\n",
    "tol = 1e-15\n",
    "a, b = 0., 1.\n",
    "k = 0\n",
    "def BisectionMethod(func, a, b, tol, maxIter):\n",
    "    i = 0\n",
    "    zeros = []\n",
    "    while b-a>tol and i<maxIter:\n",
    "        m = (a+b)/2\n",
    "        if np.sign(func(a))!=np.sign(func(m)):\n",
    "            b = m\n",
    "        else:\n",
    "            a = m\n",
    "        i+=1\n",
    "        zeros.append(m)\n",
    "    return m, i , zeros\n",
    "x_bisection, i_bisection, zeros_bisection = BisectionMethod(func, a,b, tol, 100)"
   ]
  },
  {
   "cell_type": "code",
   "execution_count": 7,
   "metadata": {},
   "outputs": [],
   "source": [
    "def FPI(x0, g, tol, maxIter):\n",
    "    x = x0 \n",
    "    i = 0\n",
    "    zeros = [x0]\n",
    "    while np.abs(x - g(x)) > tol and i <maxIter:\n",
    "        x = g(x)\n",
    "        i+=1\n",
    "        zeros.append(x)\n",
    "    return x, i, zeros"
   ]
  },
  {
   "cell_type": "code",
   "execution_count": 8,
   "metadata": {},
   "outputs": [],
   "source": [
    "x_fpi, i_fpi, zeros_fpi = FPI(0. , lambda x : 0.5* np.cos(x), 1e-15, 40)"
   ]
  },
  {
   "cell_type": "code",
   "execution_count": 9,
   "metadata": {},
   "outputs": [],
   "source": [
    "def secantMethod(x0,x1,f, tol, maxIter):\n",
    "    x = x0\n",
    "    xNew = x1\n",
    "    f_sec = lambda x1, x0: (f(x1)-f(x0))/(x1-x0)\n",
    "    i=0\n",
    "    zeros = [x0,x1]\n",
    "    while np.abs(f(xNew)) > tol and i < maxIter:\n",
    "        t = xNew\n",
    "        xNew  = x - f(x)/f_sec(xNew,x)\n",
    "        x = t\n",
    "        i+=1\n",
    "        zeros.append(xNew)\n",
    "    return xNew , i, zeros\n",
    "        "
   ]
  },
  {
   "cell_type": "code",
   "execution_count": 10,
   "metadata": {},
   "outputs": [],
   "source": [
    "x_sec, i_sec, zeros_sec = secantMethod(0.5,0.25,func,1e-15,20);"
   ]
  },
  {
   "cell_type": "code",
   "execution_count": 11,
   "metadata": {},
   "outputs": [],
   "source": [
    "def NewtonMethod(x0, f,df, tol, maxIter):\n",
    "    x = x0\n",
    "    xNew = x0\n",
    "    i = 0 \n",
    "    zeros = [x0]\n",
    "    while np.abs(f(xNew)) > tol and i < maxIter:\n",
    "        x = xNew\n",
    "        xNew = x - (f(x)/ df(x))\n",
    "        i+=1\n",
    "        zeros.append(xNew)\n",
    "    return xNew, i, zeros "
   ]
  },
  {
   "cell_type": "code",
   "execution_count": 12,
   "metadata": {},
   "outputs": [],
   "source": [
    "def dfunc(x):\n",
    "    return 2 + np.sin(x)\n",
    "x_newton, i_newton, zeros_newton = NewtonMethod(0.5,func,dfunc ,1e-15,30)"
   ]
  },
  {
   "cell_type": "code",
   "execution_count": 13,
   "metadata": {
    "scrolled": true
   },
   "outputs": [
    {
     "data": {
      "text/markdown": [
       "iteration ($k$) | Bisection | FPI | Newtons Method | Secant Method\n",
       "---|---|---|---|---|\n",
       "0 |  0.5 | 0.0 | 0.5 | 0.5\n",
       "1 |  0.25 | 0.5 | 0.45062669307724307 | 0.25\n",
       "2 |  0.375 | 0.4387912809451864 | 0.45018364757777474 | 0.44824486026004395\n",
       "3 |  0.4375 | 0.4526329216602096 | 0.45018361129487383 | 0.4502604027560956\n",
       "4 |  0.46875 | 0.44964937621365964 | 0.45018361129487383 | 0.45018358375372597\n",
       "5 |  0.453125 | 0.4502997781314499 | 0.45018361129487383 | 0.4501836112948736\n",
       "6 |  0.4453125 | 0.4501583343696809 | 0.45018361129487383 | 0.4501836112948736\n",
       "7 |  0.44921875 | 0.45018911053614313 | 0.45018361129487383 | 0.4501836112948736\n",
       "8 |  0.451171875 | 0.4501824148432776 | 0.45018361129487383 | 0.4501836112948736\n",
       "9 |  0.4501953125 | 0.4501838716010567 | 0.45018361129487383 | 0.4501836112948736\n",
       "10 |  0.44970703125 | 0.4501835546612318 | 0.45018361129487383 | 0.4501836112948736\n",
       "11 |  0.449951171875 | 0.45018362361639547 | 0.45018361129487383 | 0.4501836112948736\n",
       "12 |  0.4500732421875 | 0.4501836086141363 | 0.45018361129487383 | 0.4501836112948736\n",
       "13 |  0.45013427734375 | 0.45018361187810935 | 0.45018361129487383 | 0.4501836112948736\n",
       "14 |  0.450164794921875 | 0.4501836111679816 | 0.45018361129487383 | 0.4501836112948736\n",
       "15 |  0.4501800537109375 | 0.45018361132248086 | 0.45018361129487383 | 0.4501836112948736\n",
       "16 |  0.45018768310546875 | 0.4501836112888672 | 0.45018361129487383 | 0.4501836112948736\n",
       "17 |  0.4501838684082031 | 0.45018361129618034 | 0.45018361129487383 | 0.4501836112948736\n",
       "18 |  0.4501819610595703 | 0.4501836112945893 | 0.45018361129487383 | 0.4501836112948736\n",
       "19 |  0.4501829147338867 | 0.45018361129493545 | 0.45018361129487383 | 0.4501836112948736\n",
       "20 |  0.4501833915710449 | 0.4501836112948601 | 0.45018361129487383 | 0.4501836112948736\n",
       "21 |  0.450183629989624 | 0.4501836112948765 | 0.45018361129487383 | 0.4501836112948736\n",
       "22 |  0.4501835107803345 | 0.45018361129487294 | 0.45018361129487383 | 0.4501836112948736\n",
       "23 |  0.45018357038497925 | 0.45018361129487294 | 0.45018361129487383 | 0.4501836112948736\n",
       "24 |  0.45018360018730164 | 0.45018361129487294 | 0.45018361129487383 | 0.4501836112948736\n",
       "25 |  0.45018361508846283 | 0.45018361129487294 | 0.45018361129487383 | 0.4501836112948736\n",
       "26 |  0.45018360763788223 | 0.45018361129487294 | 0.45018361129487383 | 0.4501836112948736\n",
       "27 |  0.45018361136317253 | 0.45018361129487294 | 0.45018361129487383 | 0.4501836112948736\n",
       "28 |  0.4501836095005274 | 0.45018361129487294 | 0.45018361129487383 | 0.4501836112948736\n",
       "29 |  0.45018361043184996 | 0.45018361129487294 | 0.45018361129487383 | 0.4501836112948736\n",
       "30 |  0.45018361089751124 | 0.45018361129487294 | 0.45018361129487383 | 0.4501836112948736\n",
       "31 |  0.4501836111303419 | 0.45018361129487294 | 0.45018361129487383 | 0.4501836112948736\n",
       "32 |  0.4501836112467572 | 0.45018361129487294 | 0.45018361129487383 | 0.4501836112948736\n",
       "33 |  0.45018361130496487 | 0.45018361129487294 | 0.45018361129487383 | 0.4501836112948736\n",
       "34 |  0.45018361127586104 | 0.45018361129487294 | 0.45018361129487383 | 0.4501836112948736\n",
       "35 |  0.45018361129041295 | 0.45018361129487294 | 0.45018361129487383 | 0.4501836112948736\n",
       "36 |  0.4501836112976889 | 0.45018361129487294 | 0.45018361129487383 | 0.4501836112948736\n",
       "37 |  0.45018361129405093 | 0.45018361129487294 | 0.45018361129487383 | 0.4501836112948736\n",
       "38 |  0.4501836112958699 | 0.45018361129487294 | 0.45018361129487383 | 0.4501836112948736\n",
       "39 |  0.45018361129496043 | 0.45018361129487294 | 0.45018361129487383 | 0.4501836112948736\n",
       "40 |  0.4501836112945057 | 0.45018361129487294 | 0.45018361129487383 | 0.4501836112948736\n",
       "41 |  0.45018361129473305 | 0.45018361129487294 | 0.45018361129487383 | 0.4501836112948736\n",
       "42 |  0.45018361129484674 | 0.45018361129487294 | 0.45018361129487383 | 0.4501836112948736\n",
       "43 |  0.4501836112949036 | 0.45018361129487294 | 0.45018361129487383 | 0.4501836112948736\n",
       "44 |  0.45018361129487516 | 0.45018361129487294 | 0.45018361129487383 | 0.4501836112948736\n",
       "45 |  0.45018361129486095 | 0.45018361129487294 | 0.45018361129487383 | 0.4501836112948736\n",
       "46 |  0.45018361129486806 | 0.45018361129487294 | 0.45018361129487383 | 0.4501836112948736\n",
       "47 |  0.4501836112948716 | 0.45018361129487294 | 0.45018361129487383 | 0.4501836112948736\n",
       "48 |  0.4501836112948734 | 0.45018361129487294 | 0.45018361129487383 | 0.4501836112948736\n",
       "49 |  0.4501836112948743 | 0.45018361129487294 | 0.45018361129487383 | 0.4501836112948736\n"
      ],
      "text/plain": [
       "<IPython.core.display.Markdown object>"
      ]
     },
     "metadata": {},
     "output_type": "display_data"
    }
   ],
   "source": [
    "tstr = \"\"\n",
    "tstr += f\"iteration ($k$) | Bisection | FPI | Newtons Method | Secant Method\\n\"\n",
    "tstr += f\"---|---|---|---|---|\\n\"\n",
    "for n in range(max(i_bisection, i_fpi, i_newton,i_sec)):\n",
    "    tstr+= f\"{n} |  {zeros_bisection[-1 if n>=i_bisection else n]} | {zeros_fpi[-1 if n>=i_fpi else n]} | {zeros_newton[-1 if n>=i_newton else n]} | {zeros_sec[-1 if n>=i_sec else n]}\\n\"\n",
    "display(Markdown(tstr))"
   ]
  },
  {
   "cell_type": "markdown",
   "metadata": {},
   "source": [
    "I) Newton\n",
    "\n",
    "II) Secant\n",
    "\n",
    "III) FPI\n",
    "\n",
    "IV) Bisection"
   ]
  },
  {
   "cell_type": "code",
   "execution_count": 14,
   "metadata": {},
   "outputs": [],
   "source": [
    "def g(v):\n",
    "    x,y= v[0],v[1]\n",
    "    return np.array([x**5 + y*x -np.exp(y),4*y*np.sin(x+y) - x])\n",
    "def J_g(v):\n",
    "    x,y = v[0], v[1]\n",
    "    return np.array([[5*x**4+y,x - np.exp(y)],[4*y*np.cos(x+y)-1, 4*np.sin(x+y)+4*y*np.cos(x+y)]])"
   ]
  },
  {
   "cell_type": "code",
   "execution_count": 22,
   "metadata": {},
   "outputs": [],
   "source": [
    "def NewtonSolve(x0,tol,maxIter):\n",
    "    x = x0\n",
    "    i = 0\n",
    "    # zeros = [x0]\n",
    "    while LA.norm(g(x)) > tol and i < maxIter:\n",
    "        x += LA.solve(J_g(x),-g(x))\n",
    "        i+=1\n",
    "        # zeros.append(x)\n",
    "    return x, i"
   ]
  },
  {
   "cell_type": "code",
   "execution_count": 16,
   "metadata": {},
   "outputs": [
    {
     "data": {
      "text/plain": [
       "(array([1.00712157, 0.26356082]), 7)"
      ]
     },
     "execution_count": 16,
     "metadata": {},
     "output_type": "execute_result"
    }
   ],
   "source": [
    "x,i = NewtonSolve(np.array([.9,.9]), 1e-14, 20 )\n",
    "x, i"
   ]
  },
  {
   "cell_type": "code",
   "execution_count": 17,
   "metadata": {},
   "outputs": [
    {
     "data": {
      "text/plain": [
       "(array([-1.67153265, -7.80679901]), 14)"
      ]
     },
     "execution_count": 17,
     "metadata": {},
     "output_type": "execute_result"
    }
   ],
   "source": [
    "NewtonSolve(np.array([1.,1.]), 1e-14, 40)"
   ]
  },
  {
   "cell_type": "markdown",
   "metadata": {},
   "source": [
    "Using the intial iterate $[0.9,0.9]$ the solution converges to a root where as using $[1.,1.]$ does not converge to the same root but converges to a different one.\n",
    "This is because Newton's method converges on a compact ball $||x-x^*|| \\leq \\delta$ for a given zero therefore I think that $[1.,1.]$ is outside that boundary and thus it goes to the other zero. "
   ]
  },
  {
   "cell_type": "code",
   "execution_count": 23,
   "metadata": {},
   "outputs": [],
   "source": [
    "def BroydenMethod(x0,B0,B0_inv,tol, maxIter):\n",
    "    x = x0\n",
    "    B = B0\n",
    "    i = 0\n",
    "    B_inv = B0_inv\n",
    "    while LA.norm(g(x)) > tol and i < maxIter:\n",
    "        s = -B_inv@g(x)\n",
    "        x += s\n",
    "        s_hat = s/(s@s)\n",
    "        CHI = B_inv@g(x)\n",
    "        MU = np.dot(s_hat.T,B_inv)\n",
    "        B += np.outer(g(x),s)/(s@s)\n",
    "        B_inv = B_inv - (np.outer(CHI,MU))/(1+ s@B_inv@g(x))\n",
    "        i+=1\n",
    "    return x,i"
   ]
  },
  {
   "cell_type": "code",
   "execution_count": 19,
   "metadata": {},
   "outputs": [],
   "source": [
    "x_hat,i = BroydenMethod(np.array([.9,.9]),5*np.eye(2),1/5. * np.eye(2),1e-14,30)"
   ]
  },
  {
   "cell_type": "code",
   "execution_count": 20,
   "metadata": {},
   "outputs": [
    {
     "data": {
      "text/plain": [
       "(array([1.00712157, 0.26356082]), 9)"
      ]
     },
     "execution_count": 20,
     "metadata": {},
     "output_type": "execute_result"
    }
   ],
   "source": [
    "x_hat, i"
   ]
  },
  {
   "cell_type": "code",
   "execution_count": 24,
   "metadata": {},
   "outputs": [
    {
     "data": {
      "text/plain": [
       "(array([1.00712157, 0.26356082]), 10)"
      ]
     },
     "execution_count": 24,
     "metadata": {},
     "output_type": "execute_result"
    }
   ],
   "source": [
    "x_hat,i = BroydenMethod(np.array([1.,1.]),5*np.eye(2),1/5. * np.eye(2),1e-14,30)\n",
    "x_hat,i"
   ]
  },
  {
   "cell_type": "markdown",
   "metadata": {},
   "source": [
    "Broyden took 9 iterations to converge to $10^{-14}$ whereas Newton took 7 iterations for the same tolerance. So BFGS almost took the same amount without knowing the exact Jacobian."
   ]
  }
 ],
 "metadata": {
  "kernelspec": {
   "display_name": "Python 3 (ipykernel)",
   "language": "python",
   "name": "python3"
  },
  "language_info": {
   "codemirror_mode": {
    "name": "ipython",
    "version": 3
   },
   "file_extension": ".py",
   "mimetype": "text/x-python",
   "name": "python",
   "nbconvert_exporter": "python",
   "pygments_lexer": "ipython3",
   "version": "3.10.12"
  }
 },
 "nbformat": 4,
 "nbformat_minor": 4
}
