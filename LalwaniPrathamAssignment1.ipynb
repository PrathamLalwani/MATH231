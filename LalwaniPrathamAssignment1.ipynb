{
 "cells": [
  {
   "cell_type": "code",
   "execution_count": 36,
   "metadata": {},
   "outputs": [],
   "source": [
    "import numpy as np\n",
    "from IPython.display import Markdown\n",
    "import numpy.linalg as LA"
   ]
  },
  {
   "cell_type": "code",
   "execution_count": 24,
   "metadata": {},
   "outputs": [],
   "source": [
    "import matplotlib.pyplot as plt"
   ]
  },
  {
   "cell_type": "code",
   "execution_count": 25,
   "metadata": {},
   "outputs": [],
   "source": [
    "def fact(n):\n",
    "    return np.prod(np.arange(1,n+1),axis=0)"
   ]
  },
  {
   "cell_type": "code",
   "execution_count": 26,
   "metadata": {},
   "outputs": [],
   "source": [
    "def fact_approx(n):\n",
    "    return np.sqrt(2*np.pi*n) * (n/np.e)**n"
   ]
  },
  {
   "cell_type": "code",
   "execution_count": 34,
   "metadata": {},
   "outputs": [
    {
     "data": {
      "text/markdown": [
       "n | n! | $F_n$ | Absolute Error | Relative error\n",
       "---|---|---|---|---|\n",
       "1 |  1 | 0.9221370088957891 | 0.07786299110421091 | 0.07786299110421091\n",
       "2 |  2 | 1.9190043514889832 | 0.08099564851101682 | 0.04049782425550841\n",
       "3 |  6 | 5.836209591345864 | 0.16379040865413597 | 0.027298401442355995\n",
       "4 |  24 | 23.506175132893294 | 0.4938248671067065 | 0.020576036129446102\n",
       "5 |  120 | 118.0191679575901 | 1.9808320424099009 | 0.016506933686749173\n",
       "6 |  720 | 710.078184642185 | 9.921815357815035 | 0.013780299108076438\n",
       "7 |  5040 | 4980.395831612462 | 59.604168387538266 | 0.011826223886416323\n",
       "8 |  40320 | 39902.39545265671 | 417.6045473432896 | 0.010357255638474444\n",
       "9 |  362880 | 359536.87284194835 | 3343.1271580516477 | 0.009212762230080598\n",
       "10 |  3628800 | 3598695.6187410373 | 30104.381258962676 | 0.008295960443938127\n",
       "11 |  39916800 | 39615625.05057755 | 301174.9494224489 | 0.007545067475911117\n",
       "12 |  479001600 | 475687486.47277606 | 3314113.5272239447 | 0.006918794273806068\n",
       "13 |  6227020800 | 6187239475.19272 | 39781324.80727959 | 0.006388500389669421\n",
       "14 |  87178291200 | 86661001740.59883 | 517289459.4011688 | 0.005933695789177946\n",
       "15 |  1307674368000 | 1300430722199.468 | 7243645800.531982 | 0.00553933454519771\n",
       "16 |  20922789888000 | 20814114415223.137 | 108675472776.86328 | 0.005194119587235004\n",
       "17 |  355687428096000 | 353948328666101.1 | 1739099429898.875 | 0.004889403708217352\n",
       "18 |  6402373705728000 | 6372804626194313.0 | 29569079533687.0 | 0.0046184557310724435\n",
       "19 |  121645100408832000 | 1.2111278659229419e+17 | 532313816537808.0 | 0.004375957722495822\n",
       "20 |  2432902008176640000 | 2.422786846761135e+18 | 1.0115161415504896e+16 | 0.0041576526228797\n"
      ],
      "text/plain": [
       "<IPython.core.display.Markdown object>"
      ]
     },
     "metadata": {},
     "output_type": "display_data"
    }
   ],
   "source": [
    "tstr = \"\"\n",
    "tstr += f\"n | n! | $F_n$ | Absolute Error | Relative error\\n\"\n",
    "tstr += f\"---|---|---|---|---|\\n\"\n",
    "for n in range(1,21):\n",
    "    tstr+= f\"{n} |  {fact(n)} | {fact_approx(n)} | {np.abs(fact_approx(n)- fact(n))} | {np.abs(fact_approx(n)- fact(n))/fact(n)}\\n\"\n",
    "display(Markdown(tstr))"
   ]
  },
  {
   "cell_type": "code",
   "execution_count": 35,
   "metadata": {},
   "outputs": [],
   "source": [
    "def g(v):\n",
    "    x,y= v[0],v[1]\n",
    "    return np.array([x**2 + (y**2/9.) -1.,(x**2/4.) + y**2 - 1.])\n",
    "def J_g(v):\n",
    "    x,y = v[0], v[1]\n",
    "    return np.array([[2*x,(2*y/9.)],[x/2., 2*y]])"
   ]
  },
  {
   "cell_type": "code",
   "execution_count": 45,
   "metadata": {},
   "outputs": [],
   "source": [
    "def NewtonSolve(x0,tol,maxIter):\n",
    "    x = x0\n",
    "    i =0 \n",
    "    while LA.norm(g(x)) > tol and i < maxIter:\n",
    "        x += LA.solve(J_g(x),-g(x))\n",
    "        i+=1\n",
    "    return x, i"
   ]
  },
  {
   "cell_type": "code",
   "execution_count": 43,
   "metadata": {},
   "outputs": [
    {
     "data": {
      "text/plain": [
       "(array([0.95618289, 0.87831007]), 4)"
      ]
     },
     "execution_count": 43,
     "metadata": {},
     "output_type": "execute_result"
    }
   ],
   "source": [
    "NewtonSolve(np.array([1.,1.]), 1e-15, 20 )"
   ]
  },
  {
   "cell_type": "code",
   "execution_count": 44,
   "metadata": {},
   "outputs": [
    {
     "data": {
      "text/plain": [
       "array([5.69135272e-09, 8.84559315e-09])"
      ]
     },
     "execution_count": 44,
     "metadata": {},
     "output_type": "execute_result"
    }
   ],
   "source": [
    "g(np.array([0.95618289, 0.87831007]))"
   ]
  },
  {
   "cell_type": "code",
   "execution_count": 48,
   "metadata": {},
   "outputs": [],
   "source": [
    "def BroydenMethod(x0,B0,tol, maxIter):\n",
    "    x = x0\n",
    "    B = B0\n",
    "    i =0  \n",
    "    while LA.norm(g(x)) > tol and i < maxIter:\n",
    "        s = LA.solve(B,-g(x))\n",
    "        x +=s\n",
    "        B += np.outer(g(x),s)/(s@s)\n",
    "        i+=1\n",
    "    return x,i"
   ]
  },
  {
   "cell_type": "code",
   "execution_count": 62,
   "metadata": {},
   "outputs": [
    {
     "data": {
      "text/plain": [
       "(array([0.95618289, 0.87831007]), 13)"
      ]
     },
     "execution_count": 62,
     "metadata": {},
     "output_type": "execute_result"
    }
   ],
   "source": [
    "BroydenMethod(np.array([1.,1.]),np.random.random((2,2)),1e-14,30)"
   ]
  }
 ],
 "metadata": {
  "kernelspec": {
   "display_name": "base",
   "language": "python",
   "name": "python3"
  },
  "language_info": {
   "codemirror_mode": {
    "name": "ipython",
    "version": 3
   },
   "file_extension": ".py",
   "mimetype": "text/x-python",
   "name": "python",
   "nbconvert_exporter": "python",
   "pygments_lexer": "ipython3",
   "version": "3.10.14"
  }
 },
 "nbformat": 4,
 "nbformat_minor": 2
}
