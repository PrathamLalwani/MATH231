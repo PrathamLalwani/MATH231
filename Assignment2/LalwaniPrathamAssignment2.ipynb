{
 "cells": [
  {
   "cell_type": "code",
   "execution_count": 1,
   "id": "7d3e5cc0-77c6-430b-a062-745168e80c5f",
   "metadata": {},
   "outputs": [],
   "source": [
    "import numpy as np\n",
    "import scipy as sp\n",
    "from scipy.sparse import coo_array"
   ]
  },
  {
   "cell_type": "markdown",
   "id": "c8545ed8-d156-4045-b028-4f585d6336ce",
   "metadata": {},
   "source": [
    "## Question 3"
   ]
  },
  {
   "cell_type": "code",
   "execution_count": null,
   "id": "f126c87e-afaa-4828-9fe7-dbfd7f9c1d59",
   "metadata": {},
   "outputs": [],
   "source": [
    "def RichardsonIteration(A, b, x0, omega, tol, maxIter):\n",
    "    x = x0\n",
    "    r = b - A@x\n",
    "    i =0 \n",
    "    while np.linalg.norm(r) > tol and i < maxIter:\n",
    "        x = x + omega*r\n",
    "        r = b - A@x\n",
    "        i+=1"
   ]
  },
  {
   "cell_type": "code",
   "execution_count": null,
   "id": "cc6784f9",
   "metadata": {},
   "outputs": [],
   "source": [
    "def OptimalRichardsonIteration(A, b, x0 , tol, maxIter, eig_max = None, eig_min = None):\n",
    "    x = x0\n",
    "    r = b - A@x\n",
    "    i =0 \n",
    "    if eig_max == None and eig_min == None:\n",
    "        sp.sparse.linalg.eigs(A)\n",
    "\n",
    "    omega = 2./(eig_max + eig_min)\n",
    "    while np.linalg.norm(r) > tol and i < maxIter:\n",
    "        x = x + omega*r\n",
    "        r = b - A@x\n",
    "        i+=1"
   ]
  },
  {
   "cell_type": "code",
   "execution_count": null,
   "id": "f8984760",
   "metadata": {},
   "outputs": [],
   "source": [
    "\n",
    "def JacobiIteration(A, b, x0 , tol, maxIter, eig_max = None, eig_min = None):\n",
    "    x = x0\n",
    "    r = b - A@x\n",
    "    i = 0 \n",
    "    if eig_max == None and eig_min == None:\n",
    "        sp.sparse.linalg.eigs(A)\n",
    "\n",
    "    omega = 2./(eig_max + eig_min)\n",
    "    while np.linalg.norm(r) > tol and i < maxIter:\n",
    "        x = x + omega*r\n",
    "        r = b - A@x\n",
    "        i+=1"
   ]
  }
 ],
 "metadata": {
  "kernelspec": {
   "display_name": "base",
   "language": "python",
   "name": "python3"
  },
  "language_info": {
   "codemirror_mode": {
    "name": "ipython",
    "version": 3
   },
   "file_extension": ".py",
   "mimetype": "text/x-python",
   "name": "python",
   "nbconvert_exporter": "python",
   "pygments_lexer": "ipython3",
   "version": "3.10.14"
  }
 },
 "nbformat": 4,
 "nbformat_minor": 5
}
