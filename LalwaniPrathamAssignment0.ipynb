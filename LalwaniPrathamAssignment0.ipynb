{
 "cells": [
  {
   "cell_type": "code",
   "execution_count": 16,
   "metadata": {},
   "outputs": [],
   "source": [
    "import numpy as np\n",
    "import matplotlib.pyplot as plt\n",
    "import time\n",
    "import timeit\n",
    "\n",
    "plt.rcParams['text.usetex'] = True"
   ]
  },
  {
   "cell_type": "code",
   "execution_count": 17,
   "metadata": {},
   "outputs": [],
   "source": [
    "# Generates random upper triangular matrix\n",
    "def generate_U(n):\n",
    "    A = np.zeros((n,n))\n",
    "    for i in range(n):\n",
    "        t = np.random.random((n-i,))\n",
    "        A += np.diag(t,i)\n",
    "    return A"
   ]
  },
  {
   "cell_type": "code",
   "execution_count": 18,
   "metadata": {},
   "outputs": [],
   "source": [
    "def solve_upper_triangular_system(U,b):\n",
    "    x = np.zeros_like(b)\n",
    "    n = U.shape[0]\n",
    "    for i in range(n-1,-1,-1):\n",
    "        x[i] = (b[i] - np.dot(U[i,i+1:],x[i+1:]))/(U[i,i])\n",
    "    return x"
   ]
  },
  {
   "cell_type": "code",
   "execution_count": 19,
   "metadata": {},
   "outputs": [],
   "source": [
    "# def solve_upper_triangular_system(U,b):\n",
    "#     x = np.zeros_like(b)\n",
    "#     n = U.shape[0]\n",
    "#     for i in range(n-1,-1,-1):\n",
    "#         sum = 0.\n",
    "#         for j in range(i+1,n):\n",
    "#             sum+=U[i,j]*x[j]\n",
    "#         x[i] = (b[i] - sum)/(U[i,i])\n",
    "#     return x"
   ]
  },
  {
   "cell_type": "code",
   "execution_count": 20,
   "metadata": {},
   "outputs": [
    {
     "name": "stdout",
     "output_type": "stream",
     "text": [
      "The error in solution of the linear system is  4.509747244882934e-15\n"
     ]
    }
   ],
   "source": [
    "n = 10\n",
    "U = generate_U(n)\n",
    "b = np.random.random(n)\n",
    "x = solve_upper_triangular_system(U,b)\n",
    "print(\"The error in solution of the linear system is \", np.linalg.norm(U@x-b,ord=2))"
   ]
  },
  {
   "cell_type": "code",
   "execution_count": 21,
   "metadata": {},
   "outputs": [
    {
     "name": "stdout",
     "output_type": "stream",
     "text": [
      "The total time to compute the solution is 0.0002793861999962246\n",
      "The total time to compute the solution is 0.0014756040000065695\n",
      "The total time to compute the solution is 0.018503059999784455\n",
      "The total time to compute the solution is 30.819230900000548\n"
     ]
    }
   ],
   "source": [
    "computation_time=[]\n",
    "timer =  timeit.Timer()\n",
    "\n",
    "for i in range(4):   \n",
    "    n = 10**i\n",
    "    compute_time_for_n = []\n",
    "    start = time.perf_counter()\n",
    "    for j in range(np.int64(np.ceil(10**(4-i)))):\n",
    "        U = generate_U(n)\n",
    "        b = np.random.random(n)\n",
    "        x = solve_upper_triangular_system(U,b)\n",
    "        #print(\"The time to compute the solution is\", stop-start)\n",
    "    stop = time.perf_counter() \n",
    "    compute_time_for_n.append((stop-start)/np.int64(np.ceil(10**(3-i))))\n",
    "    # print(\"The average time to compute the solution is\", np.average(compute_time_for_n))\n",
    "    print(\"The total time to compute the solution is\", np.sum(compute_time_for_n))\n",
    "    computation_time.append(np.average(compute_time_for_n))\n",
    "\n",
    " "
   ]
  },
  {
   "cell_type": "code",
   "execution_count": 22,
   "metadata": {},
   "outputs": [
    {
     "data": {
      "image/png": "[encoded data removed]",
      "text/plain": [
       "<Figure size 640x480 with 1 Axes>"
      ]
     },
     "metadata": {},
     "output_type": "display_data"
    }
   ],
   "source": [
    "n = np.arange(0.,4.,1.)\n",
    "plt.loglog(10**n,computation_time,base=10)\n",
    "a,b = np.polyfit(n,np.log10(computation_time),1)\n",
    "plt.loglog(10**(n),10**(a*n+b),base=10,label=f'slope={a}')\n",
    "plt.legend()\n",
    "plt.show()"
   ]
  },
  {
   "cell_type": "code",
   "execution_count": 23,
   "metadata": {},
   "outputs": [],
   "source": [
    "def generate_tridiagonal_matrix(n):\n",
    "    l = np.random.random((n-1,))\n",
    "    u = np.random.random((n-1,))\n",
    "    d = np.random.random((n,))\n",
    "    return np.diag(l,-1)+np.diag(d)+np.diag(u,1)\n"
   ]
  },
  {
   "cell_type": "code",
   "execution_count": 24,
   "metadata": {},
   "outputs": [],
   "source": [
    "def solve_tridiagonal_system(T,b):\n",
    "    x = np.zeros_like(b)\n",
    "    n = T.shape[0]\n",
    "    T = np.copy(T)\n",
    "    b = np.copy(b)\n",
    "    for i in range(1,n):\n",
    "        T[i,i] = T[i,i] - T[i-1,i]*(T[i,i-1]/T[i-1,i-1])\n",
    "        b[i] = b[i] -  b[i-1] *(T[i,i-1]/T[i-1,i-1])\n",
    "    x[n-1] = b[n-1]  /T[n-1,n-1]\n",
    "    for i in range(n-2,-1,-1):\n",
    "        x[i] = (b[i] - x[i+1]*T[i,i+1])/T[i,i]\n",
    "    return x"
   ]
  },
  {
   "cell_type": "code",
   "execution_count": 25,
   "metadata": {},
   "outputs": [
    {
     "name": "stdout",
     "output_type": "stream",
     "text": [
      "The error in the solution is : 5.523289809442722e-16\n"
     ]
    }
   ],
   "source": [
    "n = 100\n",
    "l = np.random.random((n-1,))\n",
    "u = np.random.random((n-1,))\n",
    "T = np.diag(l,-1) + np.diag(1. + np.abs(np.concatenate([np.array([0]),l],axis=0)) + \n",
    "                            np.abs(np.concatenate([u,np.array([0])],axis=0))) + np.diag(u,1)\n",
    "b = np.random.random((n,))\n",
    "x = solve_tridiagonal_system(T,b)\n",
    "x_true = np.linalg.solve(T,b)\n",
    "print(\"The error in the solution is :\", np.linalg.norm(T@x-b,ord = 2))"
   ]
  },
  {
   "cell_type": "code",
   "execution_count": null,
   "metadata": {},
   "outputs": [],
   "source": []
  }
 ],
 "metadata": {
  "kernelspec": {
   "display_name": "base",
   "language": "python",
   "name": "python3"
  },
  "language_info": {
   "codemirror_mode": {
    "name": "ipython",
    "version": 3
   },
   "file_extension": ".py",
   "mimetype": "text/x-python",
   "name": "python",
   "nbconvert_exporter": "python",
   "pygments_lexer": "ipython3",
   "version": "3.10.14"
  }
 },
 "nbformat": 4,
 "nbformat_minor": 2
}
