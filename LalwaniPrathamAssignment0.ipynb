{
 "cells": [
  {
   "cell_type": "code",
   "execution_count": 1,
   "metadata": {},
   "outputs": [],
   "source": [
    "import numpy as np\n",
    "import matplotlib.pyplot as plt\n",
    "import time\n",
    "import timeit\n",
    "\n",
    "plt.rcParams['text.usetex'] = True"
   ]
  },
  {
   "cell_type": "code",
   "execution_count": 2,
   "metadata": {},
   "outputs": [],
   "source": [
    "# Generates random upper triangular matrix\n",
    "def generate_U(n):\n",
    "    A = np.zeros((n,n))\n",
    "    for i in range(n):\n",
    "        t = np.random.random((n-i,))\n",
    "        A += np.diag(t,i)\n",
    "    return A"
   ]
  },
  {
   "cell_type": "code",
   "execution_count": 3,
   "metadata": {},
   "outputs": [],
   "source": [
    "def solve_upper_triangular_system(U,b):\n",
    "    x = np.zeros_like(b)\n",
    "    n = U.shape[0]\n",
    "    for i in range(n-1,-1,-1):\n",
    "        x[i] = (b[i] - np.dot(U[i,i+1:],x[i+1:]))/(U[i,i])\n",
    "    return x"
   ]
  },
  {
   "cell_type": "code",
   "execution_count": 4,
   "metadata": {},
   "outputs": [
    {
     "name": "stdout",
     "output_type": "stream",
     "text": [
      "The error in solution of the linear system is  4.242156220644677e-15\n"
     ]
    }
   ],
   "source": [
    "n = 10\n",
    "U = generate_U(n)\n",
    "b = np.random.random(n)\n",
    "x = solve_upper_triangular_system(U,b)\n",
    "print(\"The error in solution of the linear system is \", np.linalg.norm(U@x-b))"
   ]
  },
  {
   "cell_type": "code",
   "execution_count": 9,
   "metadata": {},
   "outputs": [
    {
     "name": "stdout",
     "output_type": "stream",
     "text": [
      "The average time to compute the solution is 2.471063004923053e-06\n",
      "The total time to compute the solution is 0.2471063004923053\n",
      "The average time to compute the solution is 1.0542549943784252e-05\n",
      "The total time to compute the solution is 0.10542549943784252\n",
      "The average time to compute the solution is 9.53031003155047e-05\n",
      "The total time to compute the solution is 0.09530310031550471\n",
      "The average time to compute the solution is 0.0010612500002025627\n",
      "The total time to compute the solution is 0.10612500002025627\n"
     ]
    }
   ],
   "source": [
    "computation_time=[]\n",
    "timer =  timeit.Timer()\n",
    "\n",
    "for i in range(4):   \n",
    "    n = 10**i\n",
    "    compute_time_for_n = []\n",
    "    for j in range(10**(5-i)):\n",
    "        U = generate_U(n)\n",
    "        b = np.random.random(n)\n",
    "        start = timeit.default_timer()\n",
    "        x = solve_upper_triangular_system(U,b)\n",
    "        stop = timeit.default_timer() \n",
    "        #print(\"The time to compute the solution is\", stop-start)\n",
    "        compute_time_for_n.append(stop-start)\n",
    "    print(\"The average time to compute the solution is\", np.average(compute_time_for_n))\n",
    "    print(\"The total time to compute the solution is\", np.sum(compute_time_for_n))\n",
    "    computation_time.append(np.average(compute_time_for_n))\n",
    "\n",
    " "
   ]
  },
  {
   "cell_type": "code",
   "execution_count": 10,
   "metadata": {},
   "outputs": [
    {
     "data": {
      "image/png": "[encoded data removed]",
      "text/plain": [
       "<Figure size 640x480 with 1 Axes>"
      ]
     },
     "metadata": {},
     "output_type": "display_data"
    }
   ],
   "source": [
    "n = np.arange(0.,4.,1.)\n",
    "plt.loglog(n,computation_time)\n",
    "a,b = np.polyfit(n,np.log(computation_time),1)\n",
    "plt.plot(n,a*n+b,label=f'slope={a}')\n",
    "plt.legend()\n",
    "plt.show()"
   ]
  },
  {
   "cell_type": "code",
   "execution_count": null,
   "metadata": {},
   "outputs": [],
   "source": []
  }
 ],
 "metadata": {
  "kernelspec": {
   "display_name": "base",
   "language": "python",
   "name": "python3"
  },
  "language_info": {
   "codemirror_mode": {
    "name": "ipython",
    "version": 3
   },
   "file_extension": ".py",
   "mimetype": "text/x-python",
   "name": "python",
   "nbconvert_exporter": "python",
   "pygments_lexer": "ipython3",
   "version": "3.12.7"
  }
 },
 "nbformat": 4,
 "nbformat_minor": 2
}
