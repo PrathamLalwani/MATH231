{
 "cells": [
  {
   "cell_type": "code",
   "execution_count": 1,
   "metadata": {},
   "outputs": [],
   "source": [
    "import numpy as np\n",
    "import matplotlib.pyplot as plt\n",
    "import time\n",
    "import timeit\n",
    "\n",
    "plt.rcParams['text.usetex'] = True"
   ]
  },
  {
   "cell_type": "code",
   "execution_count": 2,
   "metadata": {},
   "outputs": [],
   "source": [
    "# Generates random upper triangular matrix\n",
    "def generate_U(n):\n",
    "    A = np.zeros((n,n))\n",
    "    for i in range(n):\n",
    "        t = np.random.random((n-i,))\n",
    "        A += np.diag(t,i)\n",
    "    return A"
   ]
  },
  {
   "cell_type": "code",
   "execution_count": 3,
   "metadata": {},
   "outputs": [],
   "source": [
    "def solve_upper_triangular_system(U,b):\n",
    "    x = np.zeros_like(b)\n",
    "    n = U.shape[0]\n",
    "    for i in range(n-1,-1,-1):\n",
    "        x[i] = (b[i] - np.dot(U[i,i+1:],x[i+1:]))/(U[i,i])\n",
    "    return x"
   ]
  },
  {
   "cell_type": "code",
   "execution_count": 359,
   "metadata": {},
   "outputs": [
    {
     "name": "stdout",
     "output_type": "stream",
     "text": [
      "The error in solution of the linear system is  88.43359880308174\n"
     ]
    }
   ],
   "source": [
    "n = 100\n",
    "U = generate_U(n)\n",
    "b = np.random.random(n)\n",
    "x = solve_upper_triangular_system(U,b)\n",
    "print(\"The error in solution of the linear system is \", np.linalg.norm(U@x-b,ord=2))"
   ]
  },
  {
   "cell_type": "code",
   "execution_count": 361,
   "metadata": {},
   "outputs": [
    {
     "name": "stdout",
     "output_type": "stream",
     "text": [
      "The average time to compute the solution is 2.1826260040688794e-06\n",
      "The total time to compute the solution is 0.21826260040688794\n",
      "The average time to compute the solution is 1.1404619955283124e-05\n",
      "The total time to compute the solution is 0.11404619955283124\n",
      "The average time to compute the solution is 9.713030002603773e-05\n",
      "The total time to compute the solution is 0.09713030002603773\n",
      "The average time to compute the solution is 0.0012022020003496436\n",
      "The total time to compute the solution is 0.12022020003496436\n"
     ]
    }
   ],
   "source": [
    "computation_time=[]\n",
    "timer =  timeit.Timer()\n",
    "\n",
    "for i in range(4):   \n",
    "    n = 10**i\n",
    "    compute_time_for_n = []\n",
    "    for j in range(10**(5-i)):\n",
    "        U = generate_U(n)\n",
    "        b = np.random.random(n)\n",
    "        start = timeit.default_timer()\n",
    "        x = solve_upper_triangular_system(U,b)\n",
    "        stop = timeit.default_timer() \n",
    "        #print(\"The time to compute the solution is\", stop-start)\n",
    "        compute_time_for_n.append(stop-start)\n",
    "    print(\"The average time to compute the solution is\", np.average(compute_time_for_n))\n",
    "    print(\"The total time to compute the solution is\", np.sum(compute_time_for_n))\n",
    "    computation_time.append(np.average(compute_time_for_n))\n",
    "\n",
    " "
   ]
  },
  {
   "cell_type": "code",
   "execution_count": 374,
   "metadata": {},
   "outputs": [
    {
     "data": {
      "image/png": "[encoded data removed]",
      "text/plain": [
       "<Figure size 640x480 with 1 Axes>"
      ]
     },
     "metadata": {},
     "output_type": "display_data"
    }
   ],
   "source": [
    "n = np.arange(0.,4.,1.)\n",
    "plt.loglog(10**n,computation_time,base=10)\n",
    "a,b = np.polyfit(n,np.log(computation_time),1)\n",
    "plt.loglog(10**(n),10**(a*n+b),base=10,label=f'slope={a}')\n",
    "plt.legend()\n",
    "plt.show()"
   ]
  },
  {
   "cell_type": "code",
   "execution_count": 10,
   "metadata": {},
   "outputs": [],
   "source": [
    "def generate_tridiagonal_matrix(n):\n",
    "    l = np.random.random((n-1,))\n",
    "    u = np.random.random((n-1,))\n",
    "    d = np.random.random((n,))\n",
    "    return np.diag(l,-1)+np.diag(d)+np.diag(u,1)\n"
   ]
  },
  {
   "cell_type": "code",
   "execution_count": 281,
   "metadata": {},
   "outputs": [],
   "source": [
    "def solve_tridiagonal_system(T,b):\n",
    "    x = np.zeros_like(b)\n",
    "    n = T.shape[0]\n",
    "    T = np.copy(T)\n",
    "    b = np.copy(b)\n",
    "    for i in range(1,n):\n",
    "        T[i,i] = T[i,i] - T[i-1,i]*(T[i,i-1]/T[i-1,i-1])\n",
    "        b[i] = b[i] -  b[i-1] *(T[i,i-1]/T[i-1,i-1])\n",
    "    x[n-1] = b[n-1]  /T[n-1,n-1]\n",
    "    for i in range(n-2,-1,-1):\n",
    "        x[i] = (b[i] - x[i+1]*T[i,i+1])/T[i,i]\n",
    "    return x"
   ]
  },
  {
   "cell_type": "code",
   "execution_count": null,
   "metadata": {},
   "outputs": [
    {
     "name": "stdout",
     "output_type": "stream",
     "text": [
      "The error in the solution is : 6.189244428350049e-16\n"
     ]
    }
   ],
   "source": [
    "n = 100\n",
    "l = np.random.random((n-1,))\n",
    "u = np.random.random((n-1,))\n",
    "T = np.diag(l,-1) + np.diag(1. + np.abs(np.concatenate([np.array([0]),l],axis=0)) + \n",
    "                            np.abs(np.concatenate([u,np.array([0])],axis=0))) + np.diag(u,1)\n",
    "b = np.random.random((n,))\n",
    "x = solve_tridiagonal_system(T,b)\n",
    "x_true = np.linalg.solve(T,b)\n",
    "print(\"The error in the solution is :\", np.linalg.norm(T@x-b,ord = 2))"
   ]
  },
  {
   "cell_type": "code",
   "execution_count": null,
   "metadata": {},
   "outputs": [],
   "source": []
  }
 ],
 "metadata": {
  "kernelspec": {
   "display_name": "base",
   "language": "python",
   "name": "python3"
  },
  "language_info": {
   "codemirror_mode": {
    "name": "ipython",
    "version": 3
   },
   "file_extension": ".py",
   "mimetype": "text/x-python",
   "name": "python",
   "nbconvert_exporter": "python",
   "pygments_lexer": "ipython3",
   "version": "3.12.7"
  }
 },
 "nbformat": 4,
 "nbformat_minor": 2
}
